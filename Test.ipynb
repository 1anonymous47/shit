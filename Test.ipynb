{
 "cells": [
  {
   "cell_type": "code",
   "execution_count": null,
   "id": "256da8aa-d64a-43ff-815c-5932c4c01b7b",
   "metadata": {},
   "outputs": [],
   "source": [
    "from fastapi import FastAPI, File, UploadFile\n",
    "from PIL import Image\n",
    "import io\n",
    "import numpy as np\n",
    "import pickle\n",
    "import json\n",
    "from tensorflow.keras.models import Model, load_model\n",
    "from tensorflow.keras.layers import LSTM\n",
    "from tensorflow.keras.utils import load_img, img_to_array\n",
    "from tensorflow.keras.preprocessing.sequence import pad_sequences\n",
    "from tensorflow.keras.applications.resnet50 import ResNet50, preprocess_input\n",
    "# !git clone https://github.com/gautamgc17/Image-Captioning.git\n"
   ]
  },
  {
   "cell_type": "code",
   "execution_count": null,
   "id": "fc3c8f66-51b9-4b7b-93cb-84e75239e6d7",
   "metadata": {},
   "outputs": [],
   "source": [
    "custom_objects = {    \"LSTM\": lambda **kwargs: LSTM(**{k: v for k, v in kwargs.items() if k != \"time_major\"})}\n",
    "try:\n",
    "    model = load_model(r\"models\\model_weights_25.h5\",\n",
    "                       custom_objects=custom_objects)\n",
    "except Exception as e:\n",
    "    print(f\"Error loading model: {e}\")\n",
    "    exit()\n",
    "\n",
    "model_resnet = ResNet50(weights=\"imagenet\", input_shape=(224, 224, 3))\n",
    "model_resnet.trainable = False \n",
    "model_final = Model(model_resnet.input, model_resnet.layers[-2].output)\n",
    "\n",
    "def preprocess_image(img):\n",
    "    img = img.convert(\"RGB\")\n",
    "    img = img.resize((224, 224))\n",
    "    img = img_to_array(img)\n",
    "    img = np.expand_dims(img, axis=0)\n",
    "    img = preprocess_input(img)\n",
    "    return img\n",
    "\n",
    "def encode_image(img):\n",
    "    img = preprocess_image(img)\n",
    "    feature_vector = model_final.predict(img, verbose=0)\n",
    "    return feature_vector\n",
    "\n",
    "try:\n",
    "    with open(r\"models\\word_to_idx.pkl\", \"rb\") as w2i:\n",
    "        word_to_idx = pickle.load(w2i)\n",
    "\n",
    "    with open(r\"models\\idx_to_word.pkl\", \"rb\") as i2w:\n",
    "        idx_to_word = pickle.load(i2w)\n",
    "except Exception as e:\n",
    "    print(f\"Error loading word mappings: {e}\")\n",
    "    exit()\n",
    "\n",
    "def predict_caption_using_greedySearch(photo):\n",
    "    inp_text = 'startseq'\n",
    "    max_len = 33\n",
    "\n",
    "    for _ in range(max_len):\n",
    "        sequence = [word_to_idx[word] for word in inp_text.split() if word in word_to_idx]\n",
    "        sequence = pad_sequences([sequence], maxlen=max_len, padding='post')\n",
    "\n",
    "        pred_label = model.predict([photo, sequence], verbose=0)\n",
    "        pred_label = pred_label.argmax()\n",
    "\n",
    "        if pred_label not in idx_to_word:\n",
    "            break \n",
    "\n",
    "        pred_word = idx_to_word[pred_label]\n",
    "        inp_text += \" \" + pred_word\n",
    "\n",
    "        if pred_word == \"endseq\":\n",
    "            break\n",
    "\n",
    "    final_caption = inp_text.split(\" \")[1:-1] \n",
    "    final_caption = \" \".join(final_caption)\n",
    "\n",
    "    return final_caption"
   ]
  },
  {
   "cell_type": "code",
   "execution_count": 3,
   "id": "635222e9-839b-4648-b491-2b1d559f5e58",
   "metadata": {},
   "outputs": [],
   "source": [
    "def generate_caption(image):\n",
    "    img = load_img(image, target_size=(224, 224))\n",
    "    enc = encode_image(img)\n",
    "    caption = predict_caption_using_greedySearch(enc)\n",
    "    return caption"
   ]
  },
  {
   "cell_type": "code",
   "execution_count": null,
   "id": "356e856e-749f-485f-93ea-a3652dbb8bbf",
   "metadata": {},
   "outputs": [
    {
     "name": "stdout",
     "output_type": "stream",
     "text": [
      "Generated Caption: man and woman kiss\n"
     ]
    }
   ],
   "source": [
    "# ✅ Test the model with an image\n",
    "image_path = r\"2.jpg\"\n",
    "caption = generate_caption(image_path)\n",
    "print(\"Generated Caption:\", caption)"
   ]
  },
  {
   "cell_type": "code",
   "execution_count": null,
   "id": "be739b5b-d7e3-4c3c-b17c-9ca6e75386aa",
   "metadata": {},
   "outputs": [],
   "source": [
    "@app.post(\"/predict/\")\n",
    "async def predict(file: UploadFile = File(...)):\n",
    "    image = Image.open(io.BytesIO(await file.read()))\n",
    "    caption = generate_caption(image)\n",
    "    return {\"caption\": caption}"
   ]
  }
 ],
 "metadata": {
  "kernelspec": {
   "display_name": "Python 3 (ipykernel)",
   "language": "python",
   "name": "python3"
  },
  "language_info": {
   "codemirror_mode": {
    "name": "ipython",
    "version": 3
   },
   "file_extension": ".py",
   "mimetype": "text/x-python",
   "name": "python",
   "nbconvert_exporter": "python",
   "pygments_lexer": "ipython3",
   "version": "3.8.10"
  }
 },
 "nbformat": 4,
 "nbformat_minor": 5
}
